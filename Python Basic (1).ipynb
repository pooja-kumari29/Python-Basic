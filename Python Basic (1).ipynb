{
 "cells": [
  {
   "cell_type": "markdown",
   "id": "5d6f7af8-6fb9-46f2-89e6-0c0969800fa2",
   "metadata": {},
   "source": [
    "# Python Basics Questions"
   ]
  },
  {
   "cell_type": "raw",
   "id": "9c751479-19f9-4cba-b923-9450901e6a6d",
   "metadata": {},
   "source": [
    "1. What is Python, and why is it popular?\n",
    "   -Python is a computer programming language. It’s used to tell computers what to do, just like giving instructions.\n",
    "    It is popular due to following reasons:-\n",
    "    Easy to Learn-Python looks almost like English, so it’s great for beginners.\n",
    "    Can Do a Lot- Use it to make websites, analyze data, build games, automate boring tasks, or even work with artificial intelligence (AI).\n",
    "    Works Anywhere- Python can run on Windows, Mac, and Linux without much trouble.\n",
    "    Powerful Tools- Python has tons of free tools and libraries."
   ]
  },
  {
   "cell_type": "raw",
   "id": "407d30ac-97f4-4bc2-800b-acec99d6d222",
   "metadata": {},
   "source": [
    "2. What is an interpreter in Python?\n",
    "    -An interpreter in Python is a program that reads Python code and runs it line by line. Instead of converting the whole code into machine \n",
    "     language at once (like a compiler), the interpreter translates and executes each line one at a time."
   ]
  },
  {
   "cell_type": "raw",
   "id": "96c8099a-aa67-4eb1-a8dc-b3cb022e1fa0",
   "metadata": {},
   "source": [
    "3. What are pre-defined keywords in Python?\n",
    "    -Pre-defined keywords in Python are special words that have a fixed meaning in the language. They can be used as variable names or for anything \n",
    "     else."
   ]
  },
  {
   "cell_type": "raw",
   "id": "c4c4eab8-ef11-4e6f-a149-38004b5558e8",
   "metadata": {},
   "source": [
    "4. Can keywords be used as variable names?\n",
    "    -No, keywords cannot be used as variable names in Python."
   ]
  },
  {
   "cell_type": "raw",
   "id": "8cd93098-f176-477d-8086-9da0df319c94",
   "metadata": {},
   "source": [
    "5. What is mutability in Python?\n",
    "    -Mutability in Python refers to whether an object can be changed after it's created. Example- Lists, dictionaries, sets."
   ]
  },
  {
   "cell_type": "raw",
   "id": "3daf2045-fb54-4c75-8c46-72b43884a8c5",
   "metadata": {},
   "source": [
    "6. Why are lists mutable, but tuples are immutable?\n",
    "    -Lists are mutable because they are meant to store a collection of items that can change. Tuples are immutable because They are used to store \n",
    "    fixed data that should not change. This makes them faster and safe to use as keys in dictionaries or in places where data shouldn't be changed \n",
    "    accidentally."
   ]
  },
  {
   "cell_type": "raw",
   "id": "b8150fea-8dd0-4689-b7cc-94623071dbb3",
   "metadata": {},
   "source": [
    "7. What is the difference between “==” and “is” operators in Python?\n",
    "    -\"==\" Checks if values are equal. It compares the contents of two variables.\n",
    "    \"is\" Checks if they are the same object. It checks whether both variables point to the same memory location"
   ]
  },
  {
   "cell_type": "raw",
   "id": "aee98bd6-758f-42c3-8fbc-1a6becc01d8d",
   "metadata": {},
   "source": [
    "8. What are logical operators in Python?\n",
    "    -Logical operators are used to combine multiple conditions and return True or False. There are three logical operators in python that are and, or, \n",
    "    & not."
   ]
  },
  {
   "cell_type": "raw",
   "id": "1e9b397b-69b1-4fb5-bc37-8659c02dc6d6",
   "metadata": {},
   "source": [
    "9. What is type casting in Python?\n",
    "    -Type casting means converting a value from one data type to another."
   ]
  },
  {
   "cell_type": "raw",
   "id": "dbbd5657-4d29-414b-a071-8ecf83dca9b5",
   "metadata": {},
   "source": [
    "10. What is the difference between implicit and explicit type casting?\n",
    "    -Implicit: Python converts data types automatically. Python is implicit.\n",
    "    Explicit: You convert data types using casting functions."
   ]
  },
  {
   "cell_type": "raw",
   "id": "b22390da-9e47-4bef-a6ba-440ae32049b0",
   "metadata": {},
   "source": [
    "11. What is the purpose of conditional statements in Python?\n",
    "    -The purpose of conditional statements in Python is to allow program to make decisions and execute different blocks of code based on certain \n",
    "    conditions.\n",
    "    Main conditional statements in Python:\n",
    "    1. if – runs a block of code if a condition is true\n",
    "    2. elif – checks another condition if the first if was false\n",
    "    3. else – runs a block of code if none of the above conditions are true"
   ]
  },
  {
   "cell_type": "raw",
   "id": "6bc17fc8-9c41-4a09-ab69-e46bda0983cf",
   "metadata": {},
   "source": [
    "12. How does the elif statement work?\n",
    "    -The elif statement in Python stands for \"else if\". It is used to check multiple conditions after the initial if condition.\n",
    "    How it works:\n",
    "    Python checks the if condition first.\n",
    "    If it's True, it runs that block and skips the rest.\n",
    "    If it's False, it checks the elif condition.\n",
    "    If the elif is True, it runs that block.\n",
    "    You can have multiple elif statements.\n",
    "    If none of the if or elif conditions are True, the else block runs (if it's present)."
   ]
  },
  {
   "cell_type": "raw",
   "id": "f903358d-1b96-4917-b89f-794e0611302d",
   "metadata": {},
   "source": [
    "13. What is the difference between for and while loops?\n",
    "    -The difference between a for loop and a while loop in Python is how they control repetition.\n",
    "    A for loop is used when we know in advance how many times we want to repeat a block of code. It’s typically used to loop through a sequence like \n",
    "    a list, string, or a range of numbers.\n",
    "    A while loop is used when we want to repeat a block of code as long as a condition remains true, and we might not know how many times it will \n",
    "    run."
   ]
  },
  {
   "cell_type": "raw",
   "id": "465c17ea-99fd-4116-8123-a0b0fed51da8",
   "metadata": {},
   "source": [
    "14. Describe a scenario where a while loop is more suitable than a for loop.\n",
    "    -A while loop is more suitable than a for loop when you don’t know in advance how many times the loop needs to run — in other words, when the \n",
    "    number of iterations depends on a changing condition, not a fixed range."
   ]
  },
  {
   "cell_type": "code",
   "execution_count": 1,
   "id": "5e5f6faf-f4a1-4b1d-bdb5-e8cebb6cdb1a",
   "metadata": {},
   "outputs": [
    {
     "name": "stdin",
     "output_type": "stream",
     "text": [
      "Enter your ATM PIN:  0000\n",
      "Enter your ATM PIN:  1234\n"
     ]
    },
    {
     "name": "stdout",
     "output_type": "stream",
     "text": [
      "Access granted.\n"
     ]
    }
   ],
   "source": [
    "# ATM card scenario using \"while\" loop:\n",
    "correct_pin = \"1234\"\n",
    "entered_pin = \"\"\n",
    "\n",
    "while entered_pin != correct_pin:\n",
    "    entered_pin = input(\"Enter your ATM PIN: \")\n",
    "\n",
    "print(\"Access granted.\")\n"
   ]
  },
  {
   "cell_type": "markdown",
   "id": "470adb36-4520-4815-acf2-b2df6f53c926",
   "metadata": {},
   "source": [
    "# Practical Questions"
   ]
  },
  {
   "cell_type": "code",
   "execution_count": 2,
   "id": "3191630e-f0cf-43cc-8695-202ff362793e",
   "metadata": {},
   "outputs": [
    {
     "name": "stdout",
     "output_type": "stream",
     "text": [
      "Hello World\n"
     ]
    }
   ],
   "source": [
    "# 1. Write a Python program to print \"Hello, World!\"\n",
    "print (\"Hello World\")"
   ]
  },
  {
   "cell_type": "code",
   "execution_count": 3,
   "id": "647b4f00-d3ce-4cb4-81d3-f224c11559e0",
   "metadata": {},
   "outputs": [
    {
     "name": "stdout",
     "output_type": "stream",
     "text": [
      "My name is Pooja Kumari\n",
      "I am 25 years old\n"
     ]
    }
   ],
   "source": [
    "# 2. Write a Python program that displays your name and age.\n",
    "name = \"Pooja Kumari\"\n",
    "age = 25\n",
    "print (\"My name is\", name)\n",
    "print (\"I am\", age, \"years old\")"
   ]
  },
  {
   "cell_type": "code",
   "execution_count": 5,
   "id": "37526632-eb9a-4a75-9353-8e0462415067",
   "metadata": {},
   "outputs": [
    {
     "name": "stdout",
     "output_type": "stream",
     "text": [
      "\n",
      "Here is a list of the Python keywords.  Enter any keyword to get more help.\n",
      "\n",
      "False               class               from                or\n",
      "None                continue            global              pass\n",
      "True                def                 if                  raise\n",
      "and                 del                 import              return\n",
      "as                  elif                in                  try\n",
      "assert              else                is                  while\n",
      "async               except              lambda              with\n",
      "await               finally             nonlocal            yield\n",
      "break               for                 not                 \n",
      "\n"
     ]
    }
   ],
   "source": [
    "# 3. Write code to print all the pre-defined keywords in Python using the keyword library.\n",
    "help(\"keywords\")"
   ]
  },
  {
   "cell_type": "code",
   "execution_count": 6,
   "id": "2a57f4dd-92c1-4f13-93e3-0e44471472bc",
   "metadata": {},
   "outputs": [
    {
     "name": "stdin",
     "output_type": "stream",
     "text": [
      "Enter a word:  if\n"
     ]
    },
    {
     "name": "stdout",
     "output_type": "stream",
     "text": [
      "'if' is a Python keyword.\n"
     ]
    }
   ],
   "source": [
    "# 4. Write a program that checks if a given word is a Python keyword.\n",
    "import keyword\n",
    "word = input(\"Enter a word: \")\n",
    "\n",
    "if keyword.iskeyword(word):\n",
    "    print(f\"'{word}' is a Python keyword.\")\n",
    "else:\n",
    "    print(f\"'{word}' is NOT a Python keyword.\")\n"
   ]
  },
  {
   "cell_type": "code",
   "execution_count": 1,
   "id": "913179ab-79a7-499d-8b93-9b07d8c4c033",
   "metadata": {},
   "outputs": [
    {
     "name": "stdout",
     "output_type": "stream",
     "text": [
      "Original list: [10, 20, 30]\n",
      "Modified list: [10, 99, 30]\n",
      "\n",
      "Original tuple: (10, 20, 30)\n",
      "Error while modifying tuple: 'tuple' object does not support item assignment\n"
     ]
    }
   ],
   "source": [
    "# 5.  Create a list and tuple in Python, and demonstrate how attempting to change an element works differently for each.\n",
    "# Created a list\n",
    "my_list = [10, 20, 30]\n",
    "print(\"Original list:\", my_list)\n",
    "\n",
    "# Changing the second element of the list\n",
    "my_list[1] = 99\n",
    "print(\"Modified list:\", my_list)\n",
    "\n",
    "# Creating a tuple\n",
    "my_tuple = (10, 20, 30)\n",
    "print(\"\\nOriginal tuple:\", my_tuple)\n",
    "\n",
    "# Trying to change the second element of the tuple (this will cause an error)\n",
    "try:\n",
    "    my_tuple[1] = 99\n",
    "except TypeError as e:\n",
    "    print(\"Error while modifying tuple:\", e)\n"
   ]
  },
  {
   "cell_type": "code",
   "execution_count": 8,
   "id": "677b3a3a-d162-475a-9f55-762f8752eb65",
   "metadata": {},
   "outputs": [
    {
     "name": "stdout",
     "output_type": "stream",
     "text": [
      "Before function call:\n",
      "x = 5\n",
      "my_list = [1, 2, 3]\n",
      "Inside function before modification:\n",
      "num = 5\n",
      "num_list = [1, 2, 3]\n",
      "Inside function after modification:\n",
      "num = 15\n",
      "num_list = [1, 2, 3, 100]\n",
      "\n",
      "After function call:\n",
      "x = 5\n",
      "my_list = [1, 2, 3, 100]\n"
     ]
    }
   ],
   "source": [
    "# 6.  Write a function to demonstrate the behavior of mutable and immutable arguments.\n",
    "def modify_arguments(num, num_list):\n",
    "    print(\"Inside function before modification:\")\n",
    "    print(\"num =\", num)\n",
    "    print(\"num_list =\", num_list)\n",
    "\n",
    "    # Modify the arguments\n",
    "    num += 10\n",
    "    num_list.append(100)\n",
    "\n",
    "    print(\"Inside function after modification:\")\n",
    "    print(\"num =\", num)\n",
    "    print(\"num_list =\", num_list)\n",
    "\n",
    "# Immutable argument (int)\n",
    "x = 5\n",
    "\n",
    "# Mutable argument (list)\n",
    "my_list = [1, 2, 3]\n",
    "\n",
    "print(\"Before function call:\")\n",
    "print(\"x =\", x)\n",
    "print(\"my_list =\", my_list)\n",
    "\n",
    "# Call the function\n",
    "modify_arguments(x, my_list)\n",
    "\n",
    "print(\"\\nAfter function call:\")\n",
    "print(\"x =\", x)\n",
    "print(\"my_list =\", my_list)\n",
    "# x is an integer (immutable), so changes inside the function don’t affect the original variable.\n",
    "# my_list is a list (mutable), so changes inside the function do affect the original list."
   ]
  },
  {
   "cell_type": "code",
   "execution_count": 9,
   "id": "062945b9-34bc-4006-9530-42859a770c00",
   "metadata": {},
   "outputs": [
    {
     "name": "stdin",
     "output_type": "stream",
     "text": [
      "Enter the first number:  10\n",
      "Enter the second number:  3\n"
     ]
    },
    {
     "name": "stdout",
     "output_type": "stream",
     "text": [
      "\n",
      "Results:\n",
      "Addition: 10.0 + 3.0 = 13.0\n",
      "Subtraction: 10.0 - 3.0 = 7.0\n",
      "Multiplication: 10.0 * 3.0 = 30.0\n",
      "Division: 10.0 / 3.0 = 3.3333333333333335\n"
     ]
    }
   ],
   "source": [
    "# 7. Write a program that performs basic arithmetic operations on two user-input numbers.\n",
    "# Take user input and convert to float\n",
    "num1 = float(input(\"Enter the first number: \"))\n",
    "num2 = float(input(\"Enter the second number: \"))\n",
    "\n",
    "# Perform operations\n",
    "print(\"\\nResults:\")\n",
    "print(f\"Addition: {num1} + {num2} = {num1 + num2}\")\n",
    "print(f\"Subtraction: {num1} - {num2} = {num1 - num2}\")\n",
    "print(f\"Multiplication: {num1} * {num2} = {num1 * num2}\")\n",
    "\n",
    "# Check for division by zero\n",
    "if num2 != 0:\n",
    "    print(f\"Division: {num1} / {num2} = {num1 / num2}\")\n",
    "else:\n",
    "    print(\"Division: Cannot divide by zero!\")\n"
   ]
  },
  {
   "cell_type": "code",
   "execution_count": 10,
   "id": "2304e4d3-8d31-4446-afb1-63e4e57adbc6",
   "metadata": {},
   "outputs": [
    {
     "name": "stdout",
     "output_type": "stream",
     "text": [
      "Logical Operators Demo:\n",
      "a and b = False\n",
      "a or b = True\n",
      "not a = False\n",
      "not b = True\n"
     ]
    }
   ],
   "source": [
    "# 8.  Write a program to demonstrate the use of logical operators.\n",
    "# Define some boolean values\n",
    "a = True\n",
    "b = False\n",
    "\n",
    "# Demonstrate logical operators\n",
    "print(\"Logical Operators Demo:\")\n",
    "\n",
    "# AND operator\n",
    "print(f\"a and b = {a and b}\")   # False\n",
    "\n",
    "# OR operator\n",
    "print(f\"a or b = {a or b}\")     # True\n",
    "\n",
    "# NOT operator\n",
    "print(f\"not a = {not a}\")       # False\n",
    "print(f\"not b = {not b}\")       # True\n"
   ]
  },
  {
   "cell_type": "code",
   "execution_count": 21,
   "id": "10470252-7d5f-4448-b433-221d7e409c73",
   "metadata": {},
   "outputs": [
    {
     "name": "stdin",
     "output_type": "stream",
     "text": [
      "Enter a value:  56\n"
     ]
    },
    {
     "name": "stdout",
     "output_type": "stream",
     "text": [
      "Integer conversion: 56\n",
      "Boolean conversion: True\n"
     ]
    }
   ],
   "source": [
    "# 9.  Write a Python program to convert user input from string to integer, float, and boolean types.\n",
    "# Take user input as a string\n",
    "user_input = input(\"Enter a value: \")\n",
    "\n",
    "# Convert to integer\n",
    "\n",
    "    int_value = int(user_input)\n",
    "    print(f\"Integer conversion: {int_value}\")\n",
    "except ValueError:\n",
    "    print(\"Cannot convert to integer.\")\n",
    "\n",
    "# Convert to float\n",
    "\n",
    "    float_value = float(user_input)\n",
    "    print(f\"Float conversion: {float_value}\")\n",
    "except ValueError:\n",
    "    print(\"Cannot convert to float.\")\n",
    "\n",
    "# Convert to boolean\n",
    "bool_value = bool(user_input)\n",
    "print(f\"Boolean conversion: {bool_value}\")\n"
   ]
  },
  {
   "cell_type": "code",
   "execution_count": 12,
   "id": "0ee620c3-a888-4868-b0ac-a7e06886b8d4",
   "metadata": {},
   "outputs": [
    {
     "name": "stdout",
     "output_type": "stream",
     "text": [
      "Original list (strings): ['10', '20', '30', '40']\n",
      "Converted to integers: [10, 20, 30, 40]\n",
      "Converted to floats: [10.0, 20.0, 30.0, 40.0]\n",
      "Converted to booleans: [True, True, True, True]\n"
     ]
    }
   ],
   "source": [
    "# 10.  Write code to demonstrate type casting with list elements.\n",
    "\n",
    "str_list = [\"10\", \"20\", \"30\", \"40\"]\n",
    "\n",
    "print(\"Original list (strings):\", str_list)\n",
    "\n",
    "int_list = [int(i) for i in str_list]\n",
    "print(\"Converted to integers:\", int_list)\n",
    "\n",
    "float_list = [float(i) for i in str_list]\n",
    "print(\"Converted to floats:\", float_list)\n",
    "\n",
    "bool_list = [bool(i) for i in str_list]\n",
    "print(\"Converted to booleans:\", bool_list)\n"
   ]
  },
  {
   "cell_type": "code",
   "execution_count": 13,
   "id": "ba9006b7-4cd7-4fe0-9f02-101966efcef4",
   "metadata": {},
   "outputs": [
    {
     "name": "stdin",
     "output_type": "stream",
     "text": [
      "Enter a number:  -67\n"
     ]
    },
    {
     "name": "stdout",
     "output_type": "stream",
     "text": [
      "The number is negative.\n"
     ]
    }
   ],
   "source": [
    "# 11. Write a program that checks if a number is positive, negative, or zero.\n",
    "\n",
    "num = float(input(\"Enter a number: \"))\n",
    "\n",
    "if num > 0:\n",
    "    print(\"The number is positive.\")\n",
    "elif num < 0:\n",
    "    print(\"The number is negative.\")\n",
    "else:\n",
    "    print(\"The number is zero.\")\n"
   ]
  },
  {
   "cell_type": "code",
   "execution_count": 14,
   "id": "f7fc8165-da66-4f13-9916-76e5785a66a4",
   "metadata": {},
   "outputs": [
    {
     "name": "stdout",
     "output_type": "stream",
     "text": [
      "1\n",
      "2\n",
      "3\n",
      "4\n",
      "5\n",
      "6\n",
      "7\n",
      "8\n",
      "9\n",
      "10\n"
     ]
    }
   ],
   "source": [
    "# 12.  Write a for loop to print numbers from 1 to 10.\n",
    "for i in range(1, 11):\n",
    "    print(i)"
   ]
  },
  {
   "cell_type": "code",
   "execution_count": 15,
   "id": "e0ca1ff1-e171-4da7-b7b8-e1ad9333a28a",
   "metadata": {},
   "outputs": [
    {
     "name": "stdout",
     "output_type": "stream",
     "text": [
      "Sum of even numbers from 1 to 50 is: 650\n"
     ]
    }
   ],
   "source": [
    "# 13.  Write a Python program to find the sum of all even numbers between 1 and 50.\n",
    "total = 0\n",
    "for i in range(1, 51):\n",
    "    if i % 2 == 0:\n",
    "        total += i\n",
    "print(\"Sum of even numbers from 1 to 50 is:\", total)\n"
   ]
  },
  {
   "cell_type": "code",
   "execution_count": 17,
   "id": "b9eb119a-006b-425e-b76d-337c54be0b1d",
   "metadata": {},
   "outputs": [
    {
     "name": "stdin",
     "output_type": "stream",
     "text": [
      "Enter a string:  Pooja\n"
     ]
    },
    {
     "name": "stdout",
     "output_type": "stream",
     "text": [
      "Reversed string: ajooP\n"
     ]
    }
   ],
   "source": [
    "# 14.  Write a program to reverse a string using a while loop.\n",
    "text = input(\"Enter a string: \")\n",
    "reversed_text = \"\"\n",
    "index = len(text) - 1\n",
    "while index >= 0:\n",
    "    reversed_text += text[index]\n",
    "    index -= 1\n",
    "print(\"Reversed string:\", reversed_text)\n"
   ]
  },
  {
   "cell_type": "code",
   "execution_count": 19,
   "id": "1057eed6-f9f4-4e23-8379-fe6612934f54",
   "metadata": {},
   "outputs": [
    {
     "name": "stdin",
     "output_type": "stream",
     "text": [
      "Enter a number:  24\n"
     ]
    },
    {
     "name": "stdout",
     "output_type": "stream",
     "text": [
      "The factorial of 24 is 620448401733239439360000\n"
     ]
    }
   ],
   "source": [
    "# 15. Write a Python program to calculate the factorial of a number provided by the user using a while loop.\n",
    "\n",
    "num = int(input(\"Enter a number: \"))\n",
    "factorial = 1\n",
    "i = 1\n",
    "while i <= num:\n",
    "    factorial *= i\n",
    "    i += 1\n",
    "print(f\"The factorial of {num} is {factorial}\")\n"
   ]
  },
  {
   "cell_type": "code",
   "execution_count": null,
   "id": "0fa50778-49c8-4b20-891f-b4073d996121",
   "metadata": {},
   "outputs": [],
   "source": []
  }
 ],
 "metadata": {
  "kernelspec": {
   "display_name": "Python 3 (ipykernel)",
   "language": "python",
   "name": "python3"
  },
  "language_info": {
   "codemirror_mode": {
    "name": "ipython",
    "version": 3
   },
   "file_extension": ".py",
   "mimetype": "text/x-python",
   "name": "python",
   "nbconvert_exporter": "python",
   "pygments_lexer": "ipython3",
   "version": "3.13.3"
  }
 },
 "nbformat": 4,
 "nbformat_minor": 5
}
